{
 "cells": [
  {
   "cell_type": "code",
   "execution_count": null,
   "metadata": {},
   "outputs": [],
   "source": [
    "\n",
    "\n",
    "# Import our custom modules\n",
    "from computers.docker_computer import DockerComputer\n",
    "from agent.agent import Agent\n"
   ]
  },
  {
   "cell_type": "code",
   "execution_count": null,
   "metadata": {},
   "outputs": [],
   "source": [
    "def safety_check_callback(message):\n",
    "    \"\"\"Handle safety check prompts from the agent\"\"\"\n",
    "    \n",
    "    # In Streamlit, we can't easily interrupt execution for user input\n",
    "    # So we'll just display the warning and continue\n",
    "    return True"
   ]
  },
  {
   "cell_type": "code",
   "execution_count": null,
   "metadata": {},
   "outputs": [],
   "source": []
  },
  {
   "cell_type": "code",
   "execution_count": null,
   "metadata": {},
   "outputs": [],
   "source": [
    "\n",
    "with DockerComputer(container_name=\"vnc-desktop\") as computer:\n",
    "    agent = Agent(\n",
    "        computer=computer,\n",
    "        print_steps=True,\n",
    "        debug=True,\n",
    "        show_images=False,  # We'll handle image display in Streamlit\n",
    "        acknowledge_safety_check_callback=safety_check_callback\n",
    "        )\n",
    "    user_input = \"Find Services offered by Apostroph Group AG. All possible service, look online.\"\n",
    "    for update in agent.run_conversation(user_input):\n",
    "        print(update)"
   ]
  },
  {
   "cell_type": "code",
   "execution_count": null,
   "metadata": {},
   "outputs": [],
   "source": []
  },
  {
   "cell_type": "code",
   "execution_count": null,
   "metadata": {},
   "outputs": [],
   "source": []
  }
 ],
 "metadata": {
  "kernelspec": {
   "display_name": ".conda",
   "language": "python",
   "name": "python3"
  },
  "language_info": {
   "codemirror_mode": {
    "name": "ipython",
    "version": 3
   },
   "file_extension": ".py",
   "mimetype": "text/x-python",
   "name": "python",
   "nbconvert_exporter": "python",
   "pygments_lexer": "ipython3",
   "version": "3.11.11"
  }
 },
 "nbformat": 4,
 "nbformat_minor": 2
}
